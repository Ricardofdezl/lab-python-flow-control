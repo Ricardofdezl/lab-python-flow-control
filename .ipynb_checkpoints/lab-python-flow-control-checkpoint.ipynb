{
 "cells": [
  {
   "cell_type": "code",
   "execution_count": 7,
   "id": "881ea376-37a0-4fbc-8fec-cc465f0f1179",
   "metadata": {},
   "outputs": [],
   "source": [
    "products = [\"t-shirt\", \"mug\", \"hat\", \"book\", \"keychain\"]"
   ]
  },
  {
   "cell_type": "code",
   "execution_count": 9,
   "id": "c3840bd8-0ef8-4e72-ba4d-8405603d5157",
   "metadata": {},
   "outputs": [],
   "source": [
    "inventory = {}"
   ]
  },
  {
   "cell_type": "code",
   "execution_count": 13,
   "id": "465dd0e7-3dd0-4936-bb5d-7c78213bb6ad",
   "metadata": {},
   "outputs": [
    {
     "name": "stdin",
     "output_type": "stream",
     "text": [
      "t-shirt 20\n",
      "mug 10\n",
      "hat 30\n",
      "book 45\n",
      "keychain 60\n"
     ]
    }
   ],
   "source": [
    "for item in products:\n",
    "    inventory[item] = int( input(item))"
   ]
  },
  {
   "cell_type": "code",
   "execution_count": 15,
   "id": "62120216-00d0-4e89-854e-ba574a795748",
   "metadata": {},
   "outputs": [
    {
     "name": "stdout",
     "output_type": "stream",
     "text": [
      "{'t-shirt': 20, 'mug': 10, 'hat': 30, 'book': 45, 'keychain': 60}\n"
     ]
    }
   ],
   "source": [
    "print(inventory)"
   ]
  },
  {
   "cell_type": "code",
   "execution_count": 17,
   "id": "87a4cc1c-dadf-4b91-b1e7-8a78663f6f39",
   "metadata": {},
   "outputs": [],
   "source": [
    "customer_orders = set()"
   ]
  },
  {
   "cell_type": "code",
   "execution_count": 19,
   "id": "cd5af3b9-595a-4cbf-b9af-5ab1c442c461",
   "metadata": {},
   "outputs": [
    {
     "name": "stdin",
     "output_type": "stream",
     "text": [
      "Do you want to order another item, yes or no? no\n"
     ]
    },
    {
     "name": "stdout",
     "output_type": "stream",
     "text": [
      "Thank you for your order!\n"
     ]
    }
   ],
   "source": [
    "order_continue = input(\"Do you want to order another item, yes or no?\")\n",
    "while True:\n",
    "    if order_continue == \"no\":\n",
    "        print(\"Thank you for your order!\")\n",
    "        break\n",
    "    else:\n",
    "        order = input(\"Please enter an item from the inventory the customer wants to order:\")\n",
    "        while order not in products:\n",
    "            print(\"Item not in inventory!\")\n",
    "            order = input(\"Please enter an item from the inventory the customer wants to order:\")\n",
    "    customer_order.add(order)"
   ]
  },
  {
   "cell_type": "code",
   "execution_count": 23,
   "id": "f886d50c-9e25-4bf5-ab4a-621fdb52bffa",
   "metadata": {},
   "outputs": [
    {
     "name": "stdin",
     "output_type": "stream",
     "text": [
      "Do you want to order another item (yes or no)? no\n"
     ]
    },
    {
     "name": "stdout",
     "output_type": "stream",
     "text": [
      "The customer ordered: set()\n",
      "The total number of products ordered is: 0\n",
      "The total number of available product is: 165\n",
      "order statistics:\n",
      "Total Products Ordered:0\n",
      "percentage of products ordered:0.0%\n"
     ]
    }
   ],
   "source": [
    "  order_continue = input(\"Do you want to order another item (yes or no)?\")\n",
    "while order_continue not in [\"yes\", \"no\"]:\n",
    "        print (\"please enter yes or no!\")\n",
    "        order_continue = input(\"Do you want to order another item (yes or no)?\")\n",
    "print (f\"The customer ordered: {customer_orders}\")\n",
    "print (\"The total number of products ordered is:\", len(customer_orders))\n",
    "products_total = sum(inventory.values())\n",
    "print(\"The total number of available product is:\", products_total)\n",
    "percentage = len(customer_orders)/products_total*100\n",
    "order_statistics = (len(customer_orders), percentage)\n",
    "print(f\"order statistics:\\nTotal Products Ordered:{order_statistics[0]}\\npercentage of products ordered:{order_statistics[1]}%\")"
   ]
  },
  {
   "cell_type": "code",
   "execution_count": 25,
   "id": "8186560c-8751-4940-8a7f-80d6385f7769",
   "metadata": {},
   "outputs": [
    {
     "name": "stdout",
     "output_type": "stream",
     "text": [
      "The updated inventory is:\n",
      "t-shirts: 20\n",
      "mugs: 10\n",
      "hats: 30\n",
      "books: 45\n",
      "keychains: 60\n"
     ]
    }
   ],
   "source": [
    "for i in range (0, len(products)):\n",
    "    if products[i] in customer_orders:\n",
    "        inventory[products[i]] -= 1\n",
    "print (\"The updated inventory is:\")\n",
    "for key, value in inventory.items():\n",
    "    print(f\"{key}s: {value}\")"
   ]
  },
  {
   "cell_type": "markdown",
   "id": "d3bfc191-8885-42ee-b0a0-bbab867c6f9f",
   "metadata": {
    "tags": []
   },
   "source": [
    "# Lab | Flow Control"
   ]
  },
  {
   "cell_type": "markdown",
   "id": "3851fcd1-cf98-4653-9c89-e003b7ec9400",
   "metadata": {},
   "source": [
    "## Exercise: Managing Customer Orders Optimized\n",
    "\n",
    "In the last lab, you were starting an online store that sells various products. To ensure smooth operations, you developed a program that manages customer orders and inventory.\n",
    "\n",
    "You did so without using flow control. Let's go a step further and improve this code.\n",
    "\n",
    "Follow the steps below to complete the exercise:\n",
    "\n",
    "1. Look at your code from the lab data structures, and improve repeated code with loops.\n",
    "\n",
    "2. Instead of asking the user to input the name of three products that a customer wants to order, do the following:\n",
    "    \n",
    "    a. Prompt the user to enter the name of a product that a customer wants to order.\n",
    "    \n",
    "    b. Add the product name to the \"customer_orders\" set.\n",
    "    \n",
    "    c. Ask the user if they want to add another product (yes/no).\n",
    "    \n",
    "    d. Continue the loop until the user does not want to add another product.\n",
    "\n",
    "3. Instead of updating the inventory by subtracting 1 from the quantity of each product, only do it for  the products that were ordered (those in \"customer_orders\")."
   ]
  }
 ],
 "metadata": {
  "kernelspec": {
   "display_name": "Python 3 (ipykernel)",
   "language": "python",
   "name": "python3"
  },
  "language_info": {
   "codemirror_mode": {
    "name": "ipython",
    "version": 3
   },
   "file_extension": ".py",
   "mimetype": "text/x-python",
   "name": "python",
   "nbconvert_exporter": "python",
   "pygments_lexer": "ipython3",
   "version": "3.11.7"
  }
 },
 "nbformat": 4,
 "nbformat_minor": 5
}
